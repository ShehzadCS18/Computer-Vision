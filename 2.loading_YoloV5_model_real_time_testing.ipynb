{
 "cells": [
  {
   "cell_type": "code",
   "execution_count": null,
   "metadata": {},
   "outputs": [],
   "source": [
    "import torch\n",
    "import cv2"
   ]
  },
  {
   "cell_type": "code",
   "execution_count": null,
   "metadata": {},
   "outputs": [],
   "source": [
    "def load_model(path='', device=''):\n",
    "    model = torch.hub.load('ultralytics/yolov5', 'custom', path=path, force_reload=True)\n",
    "    model.to(device)\n",
    "    print(\"model to \", device)\n",
    "    return model\n"
   ]
  },
  {
   "cell_type": "code",
   "execution_count": null,
   "metadata": {},
   "outputs": [],
   "source": [
    "model=load_model(path='best_new.pt', device='cuda')"
   ]
  },
  {
   "cell_type": "code",
   "execution_count": null,
   "metadata": {},
   "outputs": [],
   "source": [
    "video_path = 'videos/Cars Moving On Road Stock Footage - Free Download.mp4'\n",
    "video = cv2.VideoCapture(video_path)\n",
    "while True:\n",
    "    ret, frame = video.read()\n",
    "    if ret==False:\n",
    "        print('continuing...')\n",
    "        continue\n",
    "\n",
    "    else:\n",
    "        result=model(frame)\n",
    "        a=result.pandas().xyxy[0]\n",
    "        for index, row in a.iterrows():\n",
    "            if row['class'] == 0:\n",
    "                x1=int(row['xmin'])\n",
    "                y1=int(row['ymin'])\n",
    "                x2=int(row['xmax'])\n",
    "                y2=int(row['ymax']) \n",
    "                confidence=row['confidence']\n",
    "                class_name=row['name']\n",
    "                rectx1,recty1=((x1+x2)/2),((y1+y2)/2)\n",
    "                rectcenter=int(rectx1),int(recty1)\n",
    "                cx=rectcenter[0]\n",
    "                cy=rectcenter[1]\n",
    "                cv2.rectangle(frame, (x1, y1), (x2, y2), (0, 255, 0), 2)\n",
    "                cv2.putText(frame, class_name, (x1, y1), cv2.FONT_HERSHEY_SIMPLEX, 1, (0, 255, 0), 2, cv2.LINE_AA)\n",
    "                cv2.imshow('frame', frame)  \n",
    "        if cv2.waitKey(1) & 0xFF == ord('q'):\n",
    "            break\n",
    "            \n",
    "video.release()\n",
    "cv2.destroyAllWindows()\n",
    "\n"
   ]
  },
  {
   "cell_type": "code",
   "execution_count": null,
   "metadata": {},
   "outputs": [],
   "source": []
  },
  {
   "cell_type": "code",
   "execution_count": null,
   "metadata": {},
   "outputs": [],
   "source": []
  }
 ],
 "metadata": {
  "language_info": {
   "name": "python"
  }
 },
 "nbformat": 4,
 "nbformat_minor": 2
}
