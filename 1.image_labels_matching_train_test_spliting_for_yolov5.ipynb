{
 "cells": [
  {
   "cell_type": "code",
   "execution_count": 1,
   "metadata": {},
   "outputs": [],
   "source": [
    "import os\n",
    "import cv2\n",
    "import numpy as np\n",
    "import shutil\n",
    "from sklearn.model_selection import train_test_split"
   ]
  },
  {
   "cell_type": "code",
   "execution_count": 25,
   "metadata": {},
   "outputs": [
    {
     "name": "stdout",
     "output_type": "stream",
     "text": [
      "length of images_names:  557\n",
      "length of labels_names:  291\n"
     ]
    }
   ],
   "source": [
    "images_path='smoking_images'\n",
    "labels_path='labels'\n",
    "os.makedirs('matched_images',exist_ok=True)\n",
    "images_names = sorted(os.listdir(images_path))\n",
    "labels_names = sorted(os.listdir(labels_path))\n",
    "print(\"length of images_names: \", len(images_names))\n",
    "print(\"length of labels_names: \", len(labels_names))\n",
    "img_file_names=[]\n",
    "label_file_names=[]\n",
    "for name in images_names:\n",
    "    img_file=name.split('.')[0]\n",
    "    img_file_names.append(img_file)\n",
    "for name in labels_names:\n",
    "    label_file=name.split('.')[0]\n",
    "    label_file_names.append(label_file)\n",
    "for i in img_file_names:\n",
    "    if i in label_file_names:\n",
    "        image_path=os.path.join(images_path, i+'.jpg')\n",
    "        image=cv2.imread(image_path)\n",
    "        cv2.imwrite('matched_images/'+i+'.jpg', image)\n"
   ]
  },
  {
   "cell_type": "code",
   "execution_count": 28,
   "metadata": {},
   "outputs": [
    {
     "name": "stdout",
     "output_type": "stream",
     "text": [
      "Data organization completed successfully.\n"
     ]
    }
   ],
   "source": [
    "\n",
    "\n",
    "def organize_data(images_path, labels_path, split_ratio, main_folder_name):\n",
    "    # Create the main folder\n",
    "    main_folder_path = os.path.join(os.getcwd(), main_folder_name)\n",
    "    os.mkdir(main_folder_path)\n",
    "\n",
    "    # Create train and val folders inside the main folder\n",
    "    train_folder_path = os.path.join(main_folder_path, 'train')\n",
    "    os.mkdir(train_folder_path)\n",
    "\n",
    "    val_folder_path = os.path.join(main_folder_path, 'val')\n",
    "    os.mkdir(val_folder_path)\n",
    "\n",
    "    # Create images and labels folders inside train and val folders\n",
    "    train_images_folder_path = os.path.join(train_folder_path, 'images')\n",
    "    os.mkdir(train_images_folder_path)\n",
    "\n",
    "    train_labels_folder_path = os.path.join(train_folder_path, 'labels')\n",
    "    os.mkdir(train_labels_folder_path)\n",
    "\n",
    "    val_images_folder_path = os.path.join(val_folder_path, 'images')\n",
    "    os.mkdir(val_images_folder_path)\n",
    "\n",
    "    val_labels_folder_path = os.path.join(val_folder_path, 'labels')\n",
    "    os.mkdir(val_labels_folder_path)\n",
    "\n",
    "    # Get a list of all images and labels\n",
    "    images_names = sorted(os.listdir(images_path))\n",
    "    labels_names = sorted(os.listdir(labels_path))\n",
    "\n",
    "    # Split the data into train and val sets\n",
    "    train_images, val_images, train_labels, val_labels = train_test_split(\n",
    "        images_names, labels_names, test_size=split_ratio, random_state=42)\n",
    "\n",
    "    # Copy train images and labels\n",
    "    for image in train_images:\n",
    "        shutil.copy(os.path.join(images_path, image), os.path.join(train_images_folder_path, image))\n",
    "        shutil.copy(os.path.join(labels_path, image.replace('.jpg', '.txt')), os.path.join(train_labels_folder_path, image.replace('.jpg', '.txt')))\n",
    "\n",
    "    # Copy val images and labels\n",
    "    for image in val_images:\n",
    "        shutil.copy(os.path.join(images_path, image), os.path.join(val_images_folder_path, image))\n",
    "        shutil.copy(os.path.join(labels_path, image.replace('.jpg', '.txt')), os.path.join(val_labels_folder_path, image.replace('.jpg', '.txt')))\n",
    "\n",
    "    print(\"Data organization completed successfully.\")\n",
    "\n",
    "images_folder_path = 'matched_images'\n",
    "labels_file_path = 'labels'\n",
    "split_ratio = 0.2\n",
    "main_folder_name = input(\"Enter the name for the main folder: \")\n",
    "organize_data(images_folder_path, labels_file_path, split_ratio, main_folder_name)\n"
   ]
  },
  {
   "cell_type": "code",
   "execution_count": null,
   "metadata": {},
   "outputs": [],
   "source": []
  }
 ],
 "metadata": {
  "kernelspec": {
   "display_name": "base",
   "language": "python",
   "name": "python3"
  },
  "language_info": {
   "codemirror_mode": {
    "name": "ipython",
    "version": 3
   },
   "file_extension": ".py",
   "mimetype": "text/x-python",
   "name": "python",
   "nbconvert_exporter": "python",
   "pygments_lexer": "ipython3",
   "version": "3.8.18"
  }
 },
 "nbformat": 4,
 "nbformat_minor": 2
}
